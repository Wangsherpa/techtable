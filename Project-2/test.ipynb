{
 "cells": [
  {
   "cell_type": "code",
   "execution_count": null,
   "metadata": {
    "ExecuteTime": {
     "end_time": "2020-07-19T11:21:52.004440Z",
     "start_time": "2020-07-19T11:21:51.380722Z"
    }
   },
   "outputs": [],
   "source": [
    "import pandas as pd\n",
    "import numpy as np\n",
    "\n",
    "test_data = pd.read_csv('data/train_AV3.csv')\n",
    "test_data.head()"
   ]
  },
  {
   "cell_type": "code",
   "execution_count": null,
   "metadata": {
    "ExecuteTime": {
     "end_time": "2020-07-19T11:22:42.359256Z",
     "start_time": "2020-07-19T11:22:42.335277Z"
    }
   },
   "outputs": [],
   "source": [
    "# Remove ID and Married Columns (not important)\n",
    "test_data_1 = test_data.copy()\n",
    "test_data_1.drop([\"Married\", \"Loan_ID\"], axis=1, inplace=True)\n",
    "test_data_1.head()\n",
    "print(test_data_1.shape)"
   ]
  },
  {
   "cell_type": "markdown",
   "metadata": {},
   "source": [
    "## Split data into cat and numerical and fill the missing values"
   ]
  },
  {
   "cell_type": "code",
   "execution_count": null,
   "metadata": {
    "ExecuteTime": {
     "end_time": "2020-07-19T11:31:01.626699Z",
     "start_time": "2020-07-19T11:31:01.594674Z"
    }
   },
   "outputs": [],
   "source": [
    "cat_columns = [c for c in test_data_1.columns if test_data_1[c].dtype == 'O']\n",
    "# test_data_cat = \n",
    "cat_data = test_data_1[cat_columns]\n",
    "cat_data.head()"
   ]
  },
  {
   "cell_type": "code",
   "execution_count": null,
   "metadata": {
    "ExecuteTime": {
     "end_time": "2020-07-19T11:31:05.047872Z",
     "start_time": "2020-07-19T11:31:05.023841Z"
    }
   },
   "outputs": [],
   "source": [
    "# Numerical data\n",
    "num_columns = [c for c in test_data_1.columns if c not in cat_data.columns]\n",
    "num_data = test_data_1[num_columns]\n",
    "num_data.head()"
   ]
  },
  {
   "cell_type": "code",
   "execution_count": null,
   "metadata": {
    "ExecuteTime": {
     "end_time": "2020-07-19T06:48:08.849844Z",
     "start_time": "2020-07-19T06:48:08.725839Z"
    }
   },
   "outputs": [],
   "source": [
    "# Check no of missing values before imputing\n",
    "cat_data.isna().sum()"
   ]
  },
  {
   "cell_type": "code",
   "execution_count": null,
   "metadata": {
    "ExecuteTime": {
     "end_time": "2020-07-19T07:36:53.655493Z",
     "start_time": "2020-07-19T07:36:53.650471Z"
    }
   },
   "outputs": [],
   "source": [
    "num_data.isna().sum()"
   ]
  },
  {
   "cell_type": "markdown",
   "metadata": {},
   "source": [
    "### Fill missing values using imputer"
   ]
  },
  {
   "cell_type": "code",
   "execution_count": null,
   "metadata": {
    "ExecuteTime": {
     "end_time": "2020-07-19T07:37:11.868956Z",
     "start_time": "2020-07-19T07:37:11.858976Z"
    }
   },
   "outputs": [],
   "source": [
    "from sklearn.impute import SimpleImputer\n",
    "\n",
    "num_imputer = SimpleImputer(strategy='median')\n",
    "cat_imputer = SimpleImputer(strategy='most_frequent')\n",
    "\n",
    "# Fit and transform\n",
    "num_data_no_mis = num_imputer.fit_transform(num_data)\n",
    "cat_data_no_mis = cat_imputer.fit_transform(cat_data)"
   ]
  },
  {
   "cell_type": "code",
   "execution_count": null,
   "metadata": {
    "ExecuteTime": {
     "end_time": "2020-07-19T07:37:19.332726Z",
     "start_time": "2020-07-19T07:37:19.322714Z"
    }
   },
   "outputs": [],
   "source": [
    "# Imputer retuns numpy array so let's convert it into \n",
    "num_df = pd.DataFrame(num_data_no_mis, columns=num_data.columns,\n",
    "                      index=num_data.index)\n",
    "num_df.head()"
   ]
  },
  {
   "cell_type": "code",
   "execution_count": null,
   "metadata": {
    "ExecuteTime": {
     "end_time": "2020-07-19T06:48:09.802409Z",
     "start_time": "2020-07-19T06:48:09.609937Z"
    }
   },
   "outputs": [],
   "source": [
    "cat_df = pd.DataFrame(cat_data_no_mis, columns=cat_data.columns,\n",
    "                      index=cat_data.index)\n",
    "cat_df.head()"
   ]
  },
  {
   "cell_type": "code",
   "execution_count": null,
   "metadata": {
    "ExecuteTime": {
     "end_time": "2020-07-19T07:37:23.752339Z",
     "start_time": "2020-07-19T07:37:23.746320Z"
    }
   },
   "outputs": [],
   "source": [
    "## Let's see the no of missing values now\n",
    "num_df.isna().sum()"
   ]
  },
  {
   "cell_type": "code",
   "execution_count": null,
   "metadata": {
    "ExecuteTime": {
     "end_time": "2020-07-19T06:48:10.088627Z",
     "start_time": "2020-07-19T06:48:09.951168Z"
    }
   },
   "outputs": [],
   "source": [
    "cat_df.isna().sum()"
   ]
  },
  {
   "cell_type": "markdown",
   "metadata": {},
   "source": [
    "### Concatenate DataFrames"
   ]
  },
  {
   "cell_type": "code",
   "execution_count": null,
   "metadata": {
    "ExecuteTime": {
     "end_time": "2020-07-19T06:48:10.272155Z",
     "start_time": "2020-07-19T06:48:10.088627Z"
    }
   },
   "outputs": [],
   "source": [
    "# Concatenate the num and cat dataframes\n",
    "new_data = pd.concat([num_df, cat_df], axis=1)\n",
    "new_data.head()"
   ]
  },
  {
   "cell_type": "code",
   "execution_count": null,
   "metadata": {
    "ExecuteTime": {
     "end_time": "2020-07-19T06:48:10.392760Z",
     "start_time": "2020-07-19T06:48:10.272155Z"
    }
   },
   "outputs": [],
   "source": [
    "new_data.shape"
   ]
  },
  {
   "cell_type": "code",
   "execution_count": null,
   "metadata": {
    "ExecuteTime": {
     "end_time": "2020-07-19T06:48:10.560204Z",
     "start_time": "2020-07-19T06:48:10.392760Z"
    }
   },
   "outputs": [],
   "source": [
    "test_data_1.shape"
   ]
  },
  {
   "cell_type": "markdown",
   "metadata": {},
   "source": [
    "## Encode categorical attributes using pandas.get_dummies method"
   ]
  },
  {
   "cell_type": "code",
   "execution_count": null,
   "metadata": {
    "ExecuteTime": {
     "end_time": "2020-07-19T07:18:57.129396Z",
     "start_time": "2020-07-19T07:18:57.124373Z"
    }
   },
   "outputs": [],
   "source": [
    "cat_data.columns"
   ]
  },
  {
   "cell_type": "code",
   "execution_count": null,
   "metadata": {
    "ExecuteTime": {
     "end_time": "2020-07-19T07:20:20.576385Z",
     "start_time": "2020-07-19T07:20:20.449424Z"
    }
   },
   "outputs": [],
   "source": [
    "data_cleaned = pd.get_dummies(new_data, columns=cat_data.columns[:-1],\n",
    "                              prefix=cat_data.columns[:-1])\n",
    "data_cleaned.head()"
   ]
  },
  {
   "cell_type": "code",
   "execution_count": null,
   "metadata": {
    "ExecuteTime": {
     "end_time": "2020-07-19T07:20:29.613234Z",
     "start_time": "2020-07-19T07:20:29.608249Z"
    }
   },
   "outputs": [],
   "source": [
    "data_cleaned.shape"
   ]
  },
  {
   "cell_type": "code",
   "execution_count": null,
   "metadata": {
    "ExecuteTime": {
     "end_time": "2020-07-19T07:23:27.039970Z",
     "start_time": "2020-07-19T07:23:26.935732Z"
    }
   },
   "outputs": [],
   "source": [
    "# Now we will encode the target attribute using LabelEncoder\n",
    "from sklearn.preprocessing import LabelEncoder\n",
    "label_encoder = LabelEncoder()\n",
    "data_cleaned[\"Loan_Status\"] = label_encoder.fit_transform(data_cleaned[\"Loan_Status\"])\n",
    "data_cleaned[\"Loan_Status\"].value_counts()"
   ]
  },
  {
   "cell_type": "code",
   "execution_count": null,
   "metadata": {
    "ExecuteTime": {
     "end_time": "2020-07-19T07:24:47.142303Z",
     "start_time": "2020-07-19T07:24:47.128336Z"
    }
   },
   "outputs": [],
   "source": [
    "data_cleaned.head()"
   ]
  },
  {
   "cell_type": "code",
   "execution_count": null,
   "metadata": {
    "ExecuteTime": {
     "end_time": "2020-07-19T07:26:26.201731Z",
     "start_time": "2020-07-19T07:26:26.185006Z"
    }
   },
   "outputs": [],
   "source": [
    "# Split into independent and dependent attributes\n",
    "data = data_cleaned.drop(\"Loan_Status\", axis=1)\n",
    "labels = data_cleaned[\"Loan_Status\"]"
   ]
  },
  {
   "cell_type": "code",
   "execution_count": null,
   "metadata": {
    "ExecuteTime": {
     "end_time": "2020-07-19T07:29:37.106880Z",
     "start_time": "2020-07-19T07:29:37.089881Z"
    }
   },
   "outputs": [],
   "source": [
    "data"
   ]
  },
  {
   "cell_type": "markdown",
   "metadata": {},
   "source": [
    "## Let's try Logistic Regression"
   ]
  },
  {
   "cell_type": "code",
   "execution_count": null,
   "metadata": {
    "ExecuteTime": {
     "end_time": "2020-07-19T07:42:12.438356Z",
     "start_time": "2020-07-19T07:42:12.426354Z"
    }
   },
   "outputs": [],
   "source": [
    "from sklearn.linear_model import LogisticRegression\n",
    "\n",
    "log_reg = LogisticRegression()\n",
    "log_reg.fit(std_data, labels)\n",
    "log_reg.score(std_data, labels)"
   ]
  },
  {
   "cell_type": "code",
   "execution_count": null,
   "metadata": {
    "ExecuteTime": {
     "end_time": "2020-07-19T07:33:21.516820Z",
     "start_time": "2020-07-19T07:33:21.513827Z"
    }
   },
   "outputs": [],
   "source": [
    "std_data = data.copy()"
   ]
  },
  {
   "cell_type": "code",
   "execution_count": null,
   "metadata": {
    "ExecuteTime": {
     "end_time": "2020-07-19T07:41:14.745497Z",
     "start_time": "2020-07-19T07:41:14.739477Z"
    }
   },
   "outputs": [],
   "source": [
    "from sklearn.preprocessing import StandardScaler\n",
    "sc = StandardScaler()\n",
    "std_data = sc.fit_transform(std_data)"
   ]
  },
  {
   "cell_type": "code",
   "execution_count": null,
   "metadata": {
    "ExecuteTime": {
     "end_time": "2020-07-19T07:41:16.943885Z",
     "start_time": "2020-07-19T07:41:16.938839Z"
    }
   },
   "outputs": [],
   "source": [
    "num_data"
   ]
  },
  {
   "cell_type": "code",
   "execution_count": null,
   "metadata": {
    "ExecuteTime": {
     "end_time": "2020-07-19T07:41:27.832761Z",
     "start_time": "2020-07-19T07:41:27.827726Z"
    }
   },
   "outputs": [],
   "source": [
    "std_data"
   ]
  },
  {
   "cell_type": "code",
   "execution_count": null,
   "metadata": {
    "ExecuteTime": {
     "end_time": "2020-07-19T07:38:20.724621Z",
     "start_time": "2020-07-19T07:38:20.609903Z"
    }
   },
   "outputs": [],
   "source": []
  },
  {
   "cell_type": "code",
   "execution_count": null,
   "metadata": {
    "ExecuteTime": {
     "end_time": "2020-07-19T07:38:39.481280Z",
     "start_time": "2020-07-19T07:38:39.442384Z"
    }
   },
   "outputs": [],
   "source": [
    "test_data[\"Credit_History\"].value_counts()"
   ]
  },
  {
   "cell_type": "code",
   "execution_count": null,
   "metadata": {
    "ExecuteTime": {
     "end_time": "2020-07-19T07:39:22.143799Z",
     "start_time": "2020-07-19T07:39:22.137781Z"
    }
   },
   "outputs": [],
   "source": [
    "num_data = pd.DataFrame(num_data, nu)"
   ]
  },
  {
   "cell_type": "markdown",
   "metadata": {},
   "source": [
    "# Testing PipeLine"
   ]
  },
  {
   "cell_type": "code",
   "execution_count": 1,
   "metadata": {
    "ExecuteTime": {
     "end_time": "2020-07-19T12:58:45.015838Z",
     "start_time": "2020-07-19T12:58:44.670758Z"
    }
   },
   "outputs": [],
   "source": [
    "import pandas as pd\n",
    "import numpy as np\n",
    "test = pd.read_csv('data/train_AV3.csv')"
   ]
  },
  {
   "cell_type": "code",
   "execution_count": 2,
   "metadata": {
    "ExecuteTime": {
     "end_time": "2020-07-19T12:58:48.995023Z",
     "start_time": "2020-07-19T12:58:48.991036Z"
    }
   },
   "outputs": [],
   "source": [
    "test.drop(columns=[\"Loan_ID\"], inplace=True)"
   ]
  },
  {
   "cell_type": "code",
   "execution_count": 4,
   "metadata": {
    "ExecuteTime": {
     "end_time": "2020-07-19T12:58:57.812571Z",
     "start_time": "2020-07-19T12:58:57.806587Z"
    }
   },
   "outputs": [],
   "source": [
    "from sklearn.pipeline import Pipeline\n",
    "from sklearn.impute import SimpleImputer\n",
    "from sklearn.preprocessing import OneHotEncoder\n",
    "from sklearn.preprocessing import StandardScaler\n",
    "\n",
    "num_pipeline = Pipeline([\n",
    "    ('imputer', SimpleImputer(strategy=\"median\")),\n",
    "    ('std_scaler', StandardScaler())\n",
    "])\n",
    "\n",
    "cat_pipeline = Pipeline([\n",
    "    ('imputer', SimpleImputer(strategy=\"most_frequent\"))\n",
    "#     ('oneHot', OneHotEncoder())\n",
    "])\n",
    "\n",
    "# num_data_tr = num_pipeline.fit_transform(num_data)\n",
    "# cat_data_tr = cat_pipeline.fit_transform(cat_data)"
   ]
  },
  {
   "cell_type": "code",
   "execution_count": 5,
   "metadata": {
    "ExecuteTime": {
     "end_time": "2020-07-19T12:59:02.187882Z",
     "start_time": "2020-07-19T12:59:02.183858Z"
    }
   },
   "outputs": [],
   "source": [
    "data = test.drop(\"Loan_Status\", axis=1)\n",
    "labels = test[\"Loan_Status\"]"
   ]
  },
  {
   "cell_type": "code",
   "execution_count": 6,
   "metadata": {
    "ExecuteTime": {
     "end_time": "2020-07-19T12:59:04.203803Z",
     "start_time": "2020-07-19T12:59:04.199789Z"
    }
   },
   "outputs": [],
   "source": [
    "from sklearn.preprocessing import LabelEncoder\n",
    "le = LabelEncoder()\n",
    "labels = le.fit_transform(labels)\n",
    "# labels"
   ]
  },
  {
   "cell_type": "code",
   "execution_count": 7,
   "metadata": {
    "ExecuteTime": {
     "end_time": "2020-07-19T12:59:11.439924Z",
     "start_time": "2020-07-19T12:59:11.430986Z"
    }
   },
   "outputs": [],
   "source": [
    "from sklearn.compose import ColumnTransformer\n",
    "\n",
    "num_attribs = [c for c in data.columns if data[c].dtype != 'O']\n",
    "cat_attribs = [c for c in data.columns if c not in num_attribs]\n",
    "\n",
    "full_pipeline = ColumnTransformer([\n",
    "    (\"num\", num_pipeline, num_attribs),\n",
    "    (\"cat\", cat_pipeline, cat_attribs)\n",
    "])"
   ]
  },
  {
   "cell_type": "code",
   "execution_count": 8,
   "metadata": {
    "ExecuteTime": {
     "end_time": "2020-07-19T12:59:17.402611Z",
     "start_time": "2020-07-19T12:59:17.383617Z"
    }
   },
   "outputs": [
    {
     "data": {
      "text/plain": [
       "array([0.07299082285068836, -0.5544873301529852, -0.21124124943736647,\n",
       "       0.2732312961117544, 0.41173269183271005, 'Male', 'No', '0',\n",
       "       'Graduate', 'No', 'Urban'], dtype=object)"
      ]
     },
     "execution_count": 8,
     "metadata": {},
     "output_type": "execute_result"
    }
   ],
   "source": [
    "data_p = full_pipeline.fit_transform(data)\n",
    "data_p[0]"
   ]
  },
  {
   "cell_type": "code",
   "execution_count": 9,
   "metadata": {
    "ExecuteTime": {
     "end_time": "2020-07-19T12:59:21.144951Z",
     "start_time": "2020-07-19T12:59:21.126728Z"
    }
   },
   "outputs": [
    {
     "data": {
      "text/html": [
       "<div>\n",
       "<style scoped>\n",
       "    .dataframe tbody tr th:only-of-type {\n",
       "        vertical-align: middle;\n",
       "    }\n",
       "\n",
       "    .dataframe tbody tr th {\n",
       "        vertical-align: top;\n",
       "    }\n",
       "\n",
       "    .dataframe thead th {\n",
       "        text-align: right;\n",
       "    }\n",
       "</style>\n",
       "<table border=\"1\" class=\"dataframe\">\n",
       "  <thead>\n",
       "    <tr style=\"text-align: right;\">\n",
       "      <th></th>\n",
       "      <th>ApplicantIncome</th>\n",
       "      <th>CoapplicantIncome</th>\n",
       "      <th>LoanAmount</th>\n",
       "      <th>Loan_Amount_Term</th>\n",
       "      <th>Credit_History</th>\n",
       "      <th>Gender</th>\n",
       "      <th>Married</th>\n",
       "      <th>Dependents</th>\n",
       "      <th>Education</th>\n",
       "      <th>Self_Employed</th>\n",
       "      <th>Property_Area</th>\n",
       "    </tr>\n",
       "  </thead>\n",
       "  <tbody>\n",
       "    <tr>\n",
       "      <th>0</th>\n",
       "      <td>0.0729908</td>\n",
       "      <td>-0.554487</td>\n",
       "      <td>-0.211241</td>\n",
       "      <td>0.273231</td>\n",
       "      <td>0.411733</td>\n",
       "      <td>Male</td>\n",
       "      <td>No</td>\n",
       "      <td>0</td>\n",
       "      <td>Graduate</td>\n",
       "      <td>No</td>\n",
       "      <td>Urban</td>\n",
       "    </tr>\n",
       "    <tr>\n",
       "      <th>1</th>\n",
       "      <td>-0.134412</td>\n",
       "      <td>-0.0387315</td>\n",
       "      <td>-0.211241</td>\n",
       "      <td>0.273231</td>\n",
       "      <td>0.411733</td>\n",
       "      <td>Male</td>\n",
       "      <td>Yes</td>\n",
       "      <td>1</td>\n",
       "      <td>Graduate</td>\n",
       "      <td>No</td>\n",
       "      <td>Rural</td>\n",
       "    </tr>\n",
       "    <tr>\n",
       "      <th>2</th>\n",
       "      <td>-0.393747</td>\n",
       "      <td>-0.554487</td>\n",
       "      <td>-0.948996</td>\n",
       "      <td>0.273231</td>\n",
       "      <td>0.411733</td>\n",
       "      <td>Male</td>\n",
       "      <td>Yes</td>\n",
       "      <td>0</td>\n",
       "      <td>Graduate</td>\n",
       "      <td>Yes</td>\n",
       "      <td>Urban</td>\n",
       "    </tr>\n",
       "    <tr>\n",
       "      <th>3</th>\n",
       "      <td>-0.462062</td>\n",
       "      <td>0.25198</td>\n",
       "      <td>-0.306435</td>\n",
       "      <td>0.273231</td>\n",
       "      <td>0.411733</td>\n",
       "      <td>Male</td>\n",
       "      <td>Yes</td>\n",
       "      <td>0</td>\n",
       "      <td>Not Graduate</td>\n",
       "      <td>No</td>\n",
       "      <td>Urban</td>\n",
       "    </tr>\n",
       "    <tr>\n",
       "      <th>4</th>\n",
       "      <td>0.0977284</td>\n",
       "      <td>-0.554487</td>\n",
       "      <td>-0.0565506</td>\n",
       "      <td>0.273231</td>\n",
       "      <td>0.411733</td>\n",
       "      <td>Male</td>\n",
       "      <td>No</td>\n",
       "      <td>0</td>\n",
       "      <td>Graduate</td>\n",
       "      <td>No</td>\n",
       "      <td>Urban</td>\n",
       "    </tr>\n",
       "    <tr>\n",
       "      <th>...</th>\n",
       "      <td>...</td>\n",
       "      <td>...</td>\n",
       "      <td>...</td>\n",
       "      <td>...</td>\n",
       "      <td>...</td>\n",
       "      <td>...</td>\n",
       "      <td>...</td>\n",
       "      <td>...</td>\n",
       "      <td>...</td>\n",
       "      <td>...</td>\n",
       "      <td>...</td>\n",
       "    </tr>\n",
       "    <tr>\n",
       "      <th>609</th>\n",
       "      <td>-0.41013</td>\n",
       "      <td>-0.554487</td>\n",
       "      <td>-0.8895</td>\n",
       "      <td>0.273231</td>\n",
       "      <td>0.411733</td>\n",
       "      <td>Female</td>\n",
       "      <td>No</td>\n",
       "      <td>0</td>\n",
       "      <td>Graduate</td>\n",
       "      <td>No</td>\n",
       "      <td>Rural</td>\n",
       "    </tr>\n",
       "    <tr>\n",
       "      <th>610</th>\n",
       "      <td>-0.212557</td>\n",
       "      <td>-0.554487</td>\n",
       "      <td>-1.25838</td>\n",
       "      <td>-2.52284</td>\n",
       "      <td>0.411733</td>\n",
       "      <td>Male</td>\n",
       "      <td>Yes</td>\n",
       "      <td>3+</td>\n",
       "      <td>Graduate</td>\n",
       "      <td>No</td>\n",
       "      <td>Rural</td>\n",
       "    </tr>\n",
       "    <tr>\n",
       "      <th>611</th>\n",
       "      <td>0.437174</td>\n",
       "      <td>-0.472404</td>\n",
       "      <td>1.27617</td>\n",
       "      <td>0.273231</td>\n",
       "      <td>0.411733</td>\n",
       "      <td>Male</td>\n",
       "      <td>Yes</td>\n",
       "      <td>1</td>\n",
       "      <td>Graduate</td>\n",
       "      <td>No</td>\n",
       "      <td>Urban</td>\n",
       "    </tr>\n",
       "    <tr>\n",
       "      <th>612</th>\n",
       "      <td>0.357064</td>\n",
       "      <td>-0.554487</td>\n",
       "      <td>0.490816</td>\n",
       "      <td>0.273231</td>\n",
       "      <td>0.411733</td>\n",
       "      <td>Male</td>\n",
       "      <td>Yes</td>\n",
       "      <td>2</td>\n",
       "      <td>Graduate</td>\n",
       "      <td>No</td>\n",
       "      <td>Urban</td>\n",
       "    </tr>\n",
       "    <tr>\n",
       "      <th>613</th>\n",
       "      <td>-0.134412</td>\n",
       "      <td>-0.554487</td>\n",
       "      <td>-0.151745</td>\n",
       "      <td>0.273231</td>\n",
       "      <td>-2.42876</td>\n",
       "      <td>Female</td>\n",
       "      <td>No</td>\n",
       "      <td>0</td>\n",
       "      <td>Graduate</td>\n",
       "      <td>Yes</td>\n",
       "      <td>Semiurban</td>\n",
       "    </tr>\n",
       "  </tbody>\n",
       "</table>\n",
       "<p>614 rows × 11 columns</p>\n",
       "</div>"
      ],
      "text/plain": [
       "    ApplicantIncome CoapplicantIncome LoanAmount Loan_Amount_Term  \\\n",
       "0         0.0729908         -0.554487  -0.211241         0.273231   \n",
       "1         -0.134412        -0.0387315  -0.211241         0.273231   \n",
       "2         -0.393747         -0.554487  -0.948996         0.273231   \n",
       "3         -0.462062           0.25198  -0.306435         0.273231   \n",
       "4         0.0977284         -0.554487 -0.0565506         0.273231   \n",
       "..              ...               ...        ...              ...   \n",
       "609        -0.41013         -0.554487    -0.8895         0.273231   \n",
       "610       -0.212557         -0.554487   -1.25838         -2.52284   \n",
       "611        0.437174         -0.472404    1.27617         0.273231   \n",
       "612        0.357064         -0.554487   0.490816         0.273231   \n",
       "613       -0.134412         -0.554487  -0.151745         0.273231   \n",
       "\n",
       "    Credit_History  Gender Married Dependents     Education Self_Employed  \\\n",
       "0         0.411733    Male      No          0      Graduate            No   \n",
       "1         0.411733    Male     Yes          1      Graduate            No   \n",
       "2         0.411733    Male     Yes          0      Graduate           Yes   \n",
       "3         0.411733    Male     Yes          0  Not Graduate            No   \n",
       "4         0.411733    Male      No          0      Graduate            No   \n",
       "..             ...     ...     ...        ...           ...           ...   \n",
       "609       0.411733  Female      No          0      Graduate            No   \n",
       "610       0.411733    Male     Yes         3+      Graduate            No   \n",
       "611       0.411733    Male     Yes          1      Graduate            No   \n",
       "612       0.411733    Male     Yes          2      Graduate            No   \n",
       "613       -2.42876  Female      No          0      Graduate           Yes   \n",
       "\n",
       "    Property_Area  \n",
       "0           Urban  \n",
       "1           Rural  \n",
       "2           Urban  \n",
       "3           Urban  \n",
       "4           Urban  \n",
       "..            ...  \n",
       "609         Rural  \n",
       "610         Rural  \n",
       "611         Urban  \n",
       "612         Urban  \n",
       "613     Semiurban  \n",
       "\n",
       "[614 rows x 11 columns]"
      ]
     },
     "execution_count": 9,
     "metadata": {},
     "output_type": "execute_result"
    }
   ],
   "source": [
    "data_df = pd.DataFrame(data_p, columns=num_attribs+cat_attribs)\n",
    "data_df"
   ]
  },
  {
   "cell_type": "code",
   "execution_count": null,
   "metadata": {
    "ExecuteTime": {
     "end_time": "2020-07-19T12:55:41.673129Z",
     "start_time": "2020-07-19T12:55:41.670138Z"
    }
   },
   "outputs": [],
   "source": [
    "# data_prepared = full_pipeline.fit_transform(data)"
   ]
  },
  {
   "cell_type": "code",
   "execution_count": 10,
   "metadata": {
    "ExecuteTime": {
     "end_time": "2020-07-19T12:59:29.931749Z",
     "start_time": "2020-07-19T12:59:29.926761Z"
    }
   },
   "outputs": [
    {
     "data": {
      "text/plain": [
       "(614, 11)"
      ]
     },
     "execution_count": 10,
     "metadata": {},
     "output_type": "execute_result"
    }
   ],
   "source": [
    "data_df.shape"
   ]
  },
  {
   "cell_type": "code",
   "execution_count": 26,
   "metadata": {
    "ExecuteTime": {
     "end_time": "2020-07-19T13:01:09.240625Z",
     "start_time": "2020-07-19T13:01:09.215671Z"
    }
   },
   "outputs": [
    {
     "data": {
      "text/html": [
       "<div>\n",
       "<style scoped>\n",
       "    .dataframe tbody tr th:only-of-type {\n",
       "        vertical-align: middle;\n",
       "    }\n",
       "\n",
       "    .dataframe tbody tr th {\n",
       "        vertical-align: top;\n",
       "    }\n",
       "\n",
       "    .dataframe thead th {\n",
       "        text-align: right;\n",
       "    }\n",
       "</style>\n",
       "<table border=\"1\" class=\"dataframe\">\n",
       "  <thead>\n",
       "    <tr style=\"text-align: right;\">\n",
       "      <th></th>\n",
       "      <th>ApplicantIncome</th>\n",
       "      <th>CoapplicantIncome</th>\n",
       "      <th>LoanAmount</th>\n",
       "      <th>Loan_Amount_Term</th>\n",
       "      <th>Credit_History</th>\n",
       "      <th>Gender_Male</th>\n",
       "      <th>Married_Yes</th>\n",
       "      <th>Dependents_1</th>\n",
       "      <th>Dependents_2</th>\n",
       "      <th>Dependents_3+</th>\n",
       "      <th>Education_Not Graduate</th>\n",
       "      <th>Self_Employed_Yes</th>\n",
       "      <th>Property_Area_Semiurban</th>\n",
       "      <th>Property_Area_Urban</th>\n",
       "    </tr>\n",
       "  </thead>\n",
       "  <tbody>\n",
       "    <tr>\n",
       "      <th>0</th>\n",
       "      <td>0.0729908</td>\n",
       "      <td>-0.554487</td>\n",
       "      <td>-0.211241</td>\n",
       "      <td>0.273231</td>\n",
       "      <td>0.411733</td>\n",
       "      <td>1</td>\n",
       "      <td>0</td>\n",
       "      <td>0</td>\n",
       "      <td>0</td>\n",
       "      <td>0</td>\n",
       "      <td>0</td>\n",
       "      <td>0</td>\n",
       "      <td>0</td>\n",
       "      <td>1</td>\n",
       "    </tr>\n",
       "    <tr>\n",
       "      <th>1</th>\n",
       "      <td>-0.134412</td>\n",
       "      <td>-0.0387315</td>\n",
       "      <td>-0.211241</td>\n",
       "      <td>0.273231</td>\n",
       "      <td>0.411733</td>\n",
       "      <td>1</td>\n",
       "      <td>1</td>\n",
       "      <td>1</td>\n",
       "      <td>0</td>\n",
       "      <td>0</td>\n",
       "      <td>0</td>\n",
       "      <td>0</td>\n",
       "      <td>0</td>\n",
       "      <td>0</td>\n",
       "    </tr>\n",
       "    <tr>\n",
       "      <th>2</th>\n",
       "      <td>-0.393747</td>\n",
       "      <td>-0.554487</td>\n",
       "      <td>-0.948996</td>\n",
       "      <td>0.273231</td>\n",
       "      <td>0.411733</td>\n",
       "      <td>1</td>\n",
       "      <td>1</td>\n",
       "      <td>0</td>\n",
       "      <td>0</td>\n",
       "      <td>0</td>\n",
       "      <td>0</td>\n",
       "      <td>1</td>\n",
       "      <td>0</td>\n",
       "      <td>1</td>\n",
       "    </tr>\n",
       "    <tr>\n",
       "      <th>3</th>\n",
       "      <td>-0.462062</td>\n",
       "      <td>0.25198</td>\n",
       "      <td>-0.306435</td>\n",
       "      <td>0.273231</td>\n",
       "      <td>0.411733</td>\n",
       "      <td>1</td>\n",
       "      <td>1</td>\n",
       "      <td>0</td>\n",
       "      <td>0</td>\n",
       "      <td>0</td>\n",
       "      <td>1</td>\n",
       "      <td>0</td>\n",
       "      <td>0</td>\n",
       "      <td>1</td>\n",
       "    </tr>\n",
       "    <tr>\n",
       "      <th>4</th>\n",
       "      <td>0.0977284</td>\n",
       "      <td>-0.554487</td>\n",
       "      <td>-0.0565506</td>\n",
       "      <td>0.273231</td>\n",
       "      <td>0.411733</td>\n",
       "      <td>1</td>\n",
       "      <td>0</td>\n",
       "      <td>0</td>\n",
       "      <td>0</td>\n",
       "      <td>0</td>\n",
       "      <td>0</td>\n",
       "      <td>0</td>\n",
       "      <td>0</td>\n",
       "      <td>1</td>\n",
       "    </tr>\n",
       "    <tr>\n",
       "      <th>...</th>\n",
       "      <td>...</td>\n",
       "      <td>...</td>\n",
       "      <td>...</td>\n",
       "      <td>...</td>\n",
       "      <td>...</td>\n",
       "      <td>...</td>\n",
       "      <td>...</td>\n",
       "      <td>...</td>\n",
       "      <td>...</td>\n",
       "      <td>...</td>\n",
       "      <td>...</td>\n",
       "      <td>...</td>\n",
       "      <td>...</td>\n",
       "      <td>...</td>\n",
       "    </tr>\n",
       "    <tr>\n",
       "      <th>609</th>\n",
       "      <td>-0.41013</td>\n",
       "      <td>-0.554487</td>\n",
       "      <td>-0.8895</td>\n",
       "      <td>0.273231</td>\n",
       "      <td>0.411733</td>\n",
       "      <td>0</td>\n",
       "      <td>0</td>\n",
       "      <td>0</td>\n",
       "      <td>0</td>\n",
       "      <td>0</td>\n",
       "      <td>0</td>\n",
       "      <td>0</td>\n",
       "      <td>0</td>\n",
       "      <td>0</td>\n",
       "    </tr>\n",
       "    <tr>\n",
       "      <th>610</th>\n",
       "      <td>-0.212557</td>\n",
       "      <td>-0.554487</td>\n",
       "      <td>-1.25838</td>\n",
       "      <td>-2.52284</td>\n",
       "      <td>0.411733</td>\n",
       "      <td>1</td>\n",
       "      <td>1</td>\n",
       "      <td>0</td>\n",
       "      <td>0</td>\n",
       "      <td>1</td>\n",
       "      <td>0</td>\n",
       "      <td>0</td>\n",
       "      <td>0</td>\n",
       "      <td>0</td>\n",
       "    </tr>\n",
       "    <tr>\n",
       "      <th>611</th>\n",
       "      <td>0.437174</td>\n",
       "      <td>-0.472404</td>\n",
       "      <td>1.27617</td>\n",
       "      <td>0.273231</td>\n",
       "      <td>0.411733</td>\n",
       "      <td>1</td>\n",
       "      <td>1</td>\n",
       "      <td>1</td>\n",
       "      <td>0</td>\n",
       "      <td>0</td>\n",
       "      <td>0</td>\n",
       "      <td>0</td>\n",
       "      <td>0</td>\n",
       "      <td>1</td>\n",
       "    </tr>\n",
       "    <tr>\n",
       "      <th>612</th>\n",
       "      <td>0.357064</td>\n",
       "      <td>-0.554487</td>\n",
       "      <td>0.490816</td>\n",
       "      <td>0.273231</td>\n",
       "      <td>0.411733</td>\n",
       "      <td>1</td>\n",
       "      <td>1</td>\n",
       "      <td>0</td>\n",
       "      <td>1</td>\n",
       "      <td>0</td>\n",
       "      <td>0</td>\n",
       "      <td>0</td>\n",
       "      <td>0</td>\n",
       "      <td>1</td>\n",
       "    </tr>\n",
       "    <tr>\n",
       "      <th>613</th>\n",
       "      <td>-0.134412</td>\n",
       "      <td>-0.554487</td>\n",
       "      <td>-0.151745</td>\n",
       "      <td>0.273231</td>\n",
       "      <td>-2.42876</td>\n",
       "      <td>0</td>\n",
       "      <td>0</td>\n",
       "      <td>0</td>\n",
       "      <td>0</td>\n",
       "      <td>0</td>\n",
       "      <td>0</td>\n",
       "      <td>1</td>\n",
       "      <td>1</td>\n",
       "      <td>0</td>\n",
       "    </tr>\n",
       "  </tbody>\n",
       "</table>\n",
       "<p>614 rows × 14 columns</p>\n",
       "</div>"
      ],
      "text/plain": [
       "    ApplicantIncome CoapplicantIncome LoanAmount Loan_Amount_Term  \\\n",
       "0         0.0729908         -0.554487  -0.211241         0.273231   \n",
       "1         -0.134412        -0.0387315  -0.211241         0.273231   \n",
       "2         -0.393747         -0.554487  -0.948996         0.273231   \n",
       "3         -0.462062           0.25198  -0.306435         0.273231   \n",
       "4         0.0977284         -0.554487 -0.0565506         0.273231   \n",
       "..              ...               ...        ...              ...   \n",
       "609        -0.41013         -0.554487    -0.8895         0.273231   \n",
       "610       -0.212557         -0.554487   -1.25838         -2.52284   \n",
       "611        0.437174         -0.472404    1.27617         0.273231   \n",
       "612        0.357064         -0.554487   0.490816         0.273231   \n",
       "613       -0.134412         -0.554487  -0.151745         0.273231   \n",
       "\n",
       "    Credit_History  Gender_Male  Married_Yes  Dependents_1  Dependents_2  \\\n",
       "0         0.411733            1            0             0             0   \n",
       "1         0.411733            1            1             1             0   \n",
       "2         0.411733            1            1             0             0   \n",
       "3         0.411733            1            1             0             0   \n",
       "4         0.411733            1            0             0             0   \n",
       "..             ...          ...          ...           ...           ...   \n",
       "609       0.411733            0            0             0             0   \n",
       "610       0.411733            1            1             0             0   \n",
       "611       0.411733            1            1             1             0   \n",
       "612       0.411733            1            1             0             1   \n",
       "613       -2.42876            0            0             0             0   \n",
       "\n",
       "     Dependents_3+  Education_Not Graduate  Self_Employed_Yes  \\\n",
       "0                0                       0                  0   \n",
       "1                0                       0                  0   \n",
       "2                0                       0                  1   \n",
       "3                0                       1                  0   \n",
       "4                0                       0                  0   \n",
       "..             ...                     ...                ...   \n",
       "609              0                       0                  0   \n",
       "610              1                       0                  0   \n",
       "611              0                       0                  0   \n",
       "612              0                       0                  0   \n",
       "613              0                       0                  1   \n",
       "\n",
       "     Property_Area_Semiurban  Property_Area_Urban  \n",
       "0                          0                    1  \n",
       "1                          0                    0  \n",
       "2                          0                    1  \n",
       "3                          0                    1  \n",
       "4                          0                    1  \n",
       "..                       ...                  ...  \n",
       "609                        0                    0  \n",
       "610                        0                    0  \n",
       "611                        0                    1  \n",
       "612                        0                    1  \n",
       "613                        1                    0  \n",
       "\n",
       "[614 rows x 14 columns]"
      ]
     },
     "execution_count": 26,
     "metadata": {},
     "output_type": "execute_result"
    }
   ],
   "source": [
    "data_prepared = pd.get_dummies(data_df, columns=cat_attribs, prefix=cat_attribs, drop_first=True)\n",
    "data_prepared"
   ]
  },
  {
   "cell_type": "code",
   "execution_count": 27,
   "metadata": {
    "ExecuteTime": {
     "end_time": "2020-07-19T13:01:13.347484Z",
     "start_time": "2020-07-19T13:01:13.342502Z"
    }
   },
   "outputs": [],
   "source": [
    "from sklearn.model_selection import train_test_split\n",
    "\n",
    "X_train, X_test, y_train, y_test = train_test_split(data_prepared,\n",
    "                                                    labels,\n",
    "                                                   test_size=0.2,\n",
    "                                                   random_state=42)"
   ]
  },
  {
   "cell_type": "code",
   "execution_count": 28,
   "metadata": {
    "ExecuteTime": {
     "end_time": "2020-07-19T13:01:16.083719Z",
     "start_time": "2020-07-19T13:01:16.078731Z"
    }
   },
   "outputs": [],
   "source": [
    "def scores(model):\n",
    "    train_score = model.score(X_train, y_train)\n",
    "    test_score = model.score(X_test, y_test)\n",
    "    print(f\"Train Score {train_score:.2f}\")\n",
    "    print(f\"Test Score {test_score:.2f}\")"
   ]
  },
  {
   "cell_type": "code",
   "execution_count": null,
   "metadata": {
    "ExecuteTime": {
     "start_time": "2020-07-19T12:57:37.941Z"
    }
   },
   "outputs": [],
   "source": [
    "from sklearn.svm import SVC\n",
    "\n",
    "svc_clf = SVC(kernel=\"linear\")\n",
    "svc_clf.fit(X_train, y_train)\n",
    "scores(svc_clf)"
   ]
  },
  {
   "cell_type": "code",
   "execution_count": 29,
   "metadata": {
    "ExecuteTime": {
     "end_time": "2020-07-19T13:01:21.175054Z",
     "start_time": "2020-07-19T13:01:21.159097Z"
    }
   },
   "outputs": [
    {
     "name": "stdout",
     "output_type": "stream",
     "text": [
      "Train Score 0.82\n",
      "Test Score 0.79\n"
     ]
    }
   ],
   "source": [
    "from sklearn.linear_model import LogisticRegression\n",
    "log = LogisticRegression(max_iter=200)\n",
    "log.fit(X_train, y_train)\n",
    "scores(log)"
   ]
  },
  {
   "cell_type": "code",
   "execution_count": 39,
   "metadata": {
    "ExecuteTime": {
     "end_time": "2020-07-19T13:05:46.269612Z",
     "start_time": "2020-07-19T13:05:46.134971Z"
    }
   },
   "outputs": [
    {
     "name": "stdout",
     "output_type": "stream",
     "text": [
      "11 0.7967479674796748\n"
     ]
    }
   ],
   "source": [
    "from sklearn.neighbors import KNeighborsClassifier\n",
    "\n",
    "# knn.fit(X_train, y_train)\n",
    "\n",
    "max = 0\n",
    "k = 0\n",
    "\n",
    "for i in range(30):\n",
    "    if i%2 != 0:\n",
    "        knn = KNeighborsClassifier(n_neighbors=i)\n",
    "        knn.fit(X_train, y_train)\n",
    "        acc = knn.score(X_test, y_test)\n",
    "        if max < acc:\n",
    "            max = acc\n",
    "            k = i\n",
    "print(k, max)"
   ]
  },
  {
   "cell_type": "code",
   "execution_count": null,
   "metadata": {},
   "outputs": [],
   "source": [
    "k"
   ]
  }
 ],
 "metadata": {
  "kernelspec": {
   "display_name": "Python 3",
   "language": "python",
   "name": "python3"
  },
  "language_info": {
   "codemirror_mode": {
    "name": "ipython",
    "version": 3
   },
   "file_extension": ".py",
   "mimetype": "text/x-python",
   "name": "python",
   "nbconvert_exporter": "python",
   "pygments_lexer": "ipython3",
   "version": "3.7.7"
  }
 },
 "nbformat": 4,
 "nbformat_minor": 4
}
